{
 "cells": [
  {
   "cell_type": "code",
   "execution_count": 255,
   "id": "0a3d89f0",
   "metadata": {},
   "outputs": [],
   "source": [
    "import pandas as pd\n",
    "import numpy as np\n",
    "from sklearn.metrics import accuracy_score,roc_auc_score,roc_curve,confusion_matrix\n",
    "from sklearn.model_selection import train_test_split\n",
    "from sklearn.preprocessing import MinMaxScaler\n",
    "from category_encoders.target_encoder import TargetEncoder\n",
    "\n",
    "from xgboost import XGBClassifier\n",
    "from sklearn.svm import SVC\n",
    "from sklearn.model_selection import GridSearchCV\n",
    "from sklearn.ensemble import AdaBoostClassifier ,RandomForestClassifier\n",
    "import re\n",
    "import seaborn as sns\n",
    "import matplotlib.pyplot as plt"
   ]
  },
  {
   "cell_type": "code",
   "execution_count": 256,
   "id": "0492db7e",
   "metadata": {},
   "outputs": [],
   "source": [
    "data = pd.read_csv(\"applicant.csv\")\n",
    "loandata = pd.read_csv(\"loan.csv\")"
   ]
  },
  {
   "cell_type": "code",
   "execution_count": 257,
   "id": "ac493a0f",
   "metadata": {
    "scrolled": true
   },
   "outputs": [
    {
     "name": "stdout",
     "output_type": "stream",
     "text": [
      "0    700\n",
      "1    300\n",
      "Name: high_risk_applicant, dtype: int64\n"
     ]
    }
   ],
   "source": [
    "print(loandata['high_risk_applicant'].value_counts())"
   ]
  },
  {
   "cell_type": "markdown",
   "id": "f175f3f7",
   "metadata": {},
   "source": [
    "Data is highly imbalanced "
   ]
  },
  {
   "cell_type": "code",
   "execution_count": 258,
   "id": "08903b5a",
   "metadata": {
    "scrolled": false
   },
   "outputs": [
    {
     "name": "stdout",
     "output_type": "stream",
     "text": [
      "<class 'pandas.core.frame.DataFrame'>\n",
      "RangeIndex: 1000 entries, 0 to 999\n",
      "Data columns (total 15 columns):\n",
      " #   Column                                                    Non-Null Count  Dtype \n",
      "---  ------                                                    --------------  ----- \n",
      " 0   applicant_id                                              1000 non-null   int64 \n",
      " 1   Primary_applicant_age_in_years                            1000 non-null   int64 \n",
      " 2   Gender                                                    1000 non-null   object\n",
      " 3   Marital_status                                            1000 non-null   object\n",
      " 4   Number_of_dependents                                      1000 non-null   int64 \n",
      " 5   Housing                                                   1000 non-null   object\n",
      " 6   Years_at_current_residence                                1000 non-null   int64 \n",
      " 7   Employment_status                                         1000 non-null   object\n",
      " 8   Has_been_employed_for_at_least                            938 non-null    object\n",
      " 9   Has_been_employed_for_at_most                             747 non-null    object\n",
      " 10  Telephone                                                 404 non-null    object\n",
      " 11  Foreign_worker                                            1000 non-null   int64 \n",
      " 12  Savings_account_balance                                   817 non-null    object\n",
      " 13  Balance_in_existing_bank_account_(lower_limit_of_bucket)  332 non-null    object\n",
      " 14  Balance_in_existing_bank_account_(upper_limit_of_bucket)  543 non-null    object\n",
      "dtypes: int64(5), object(10)\n",
      "memory usage: 117.3+ KB\n"
     ]
    }
   ],
   "source": [
    "data.info()"
   ]
  },
  {
   "cell_type": "code",
   "execution_count": 259,
   "id": "57bc2a2b",
   "metadata": {},
   "outputs": [
    {
     "name": "stdout",
     "output_type": "stream",
     "text": [
      "<class 'pandas.core.frame.DataFrame'>\n",
      "RangeIndex: 1000 entries, 0 to 999\n",
      "Data columns (total 13 columns):\n",
      " #   Column                                       Non-Null Count  Dtype \n",
      "---  ------                                       --------------  ----- \n",
      " 0   loan_application_id                          1000 non-null   object\n",
      " 1   applicant_id                                 1000 non-null   int64 \n",
      " 2   Months_loan_taken_for                        1000 non-null   int64 \n",
      " 3   Purpose                                      988 non-null    object\n",
      " 4   Principal_loan_amount                        1000 non-null   int64 \n",
      " 5   EMI_rate_in_percentage_of_disposable_income  1000 non-null   int64 \n",
      " 6   Property                                     846 non-null    object\n",
      " 7   Has_coapplicant                              1000 non-null   int64 \n",
      " 8   Has_guarantor                                1000 non-null   int64 \n",
      " 9   Other_EMI_plans                              186 non-null    object\n",
      " 10  Number_of_existing_loans_at_this_bank        1000 non-null   int64 \n",
      " 11  Loan_history                                 1000 non-null   object\n",
      " 12  high_risk_applicant                          1000 non-null   int64 \n",
      "dtypes: int64(8), object(5)\n",
      "memory usage: 101.7+ KB\n"
     ]
    }
   ],
   "source": [
    "loandata.info()"
   ]
  },
  {
   "cell_type": "markdown",
   "id": "25420cd5",
   "metadata": {},
   "source": [
    "### Data Cleaning"
   ]
  },
  {
   "cell_type": "markdown",
   "id": "ee89a6df",
   "metadata": {},
   "source": [
    "Dropping irrelevant columns"
   ]
  },
  {
   "cell_type": "code",
   "execution_count": 260,
   "id": "87d38dd4",
   "metadata": {},
   "outputs": [],
   "source": [
    "data_e1 = data.drop(['Telephone','Balance_in_existing_bank_account_(lower_limit_of_bucket)'],axis =1)\n",
    "loandata_ = loandata.drop(['loan_application_id','Other_EMI_plans'],axis=1)"
   ]
  },
  {
   "cell_type": "markdown",
   "id": "b60643e2",
   "metadata": {},
   "source": [
    "Renaming columns names"
   ]
  },
  {
   "cell_type": "code",
   "execution_count": 261,
   "id": "0f75b6c3",
   "metadata": {
    "scrolled": true
   },
   "outputs": [],
   "source": [
    "data_e1.rename(columns={'Has_been_employed_for_at_least':'employed_at_least_years','Has_been_employed_for_at_most':'employed_at_most_years','Balance_in_existing_bank_account_(upper_limit_of_bucket)':'bank_balance_upper_limit'},inplace=True)"
   ]
  },
  {
   "cell_type": "markdown",
   "id": "9699ffc9",
   "metadata": {},
   "source": [
    "Converting irrelevant string values into numbers"
   ]
  },
  {
   "cell_type": "code",
   "execution_count": 262,
   "id": "ca63963d",
   "metadata": {},
   "outputs": [],
   "source": [
    "data_e1[\"employed_at_least_years\"]=data_e1[\"employed_at_least_years\"][data_e1[\"employed_at_least_years\"].isnull()!=True].apply(lambda x:int(re.sub(\"\\D\",\"\",x)))\n",
    "data_e1[\"employed_at_most_years\"]=data_e1[\"employed_at_most_years\"][data_e1[\"employed_at_most_years\"].isnull()!=True].apply(lambda x:int(re.sub(\"\\D\",\"\",x)))\n",
    "data_e1[\"bank_balance_upper_limit\"]=data_e1[\"bank_balance_upper_limit\"][data_e1[\"bank_balance_upper_limit\"].isnull()!=True].apply(lambda x:int(re.sub(\"\\D\",\"\",x)))"
   ]
  },
  {
   "cell_type": "code",
   "execution_count": 263,
   "id": "25eb128d",
   "metadata": {},
   "outputs": [
    {
     "data": {
      "text/html": [
       "<div>\n",
       "<style scoped>\n",
       "    .dataframe tbody tr th:only-of-type {\n",
       "        vertical-align: middle;\n",
       "    }\n",
       "\n",
       "    .dataframe tbody tr th {\n",
       "        vertical-align: top;\n",
       "    }\n",
       "\n",
       "    .dataframe thead th {\n",
       "        text-align: right;\n",
       "    }\n",
       "</style>\n",
       "<table border=\"1\" class=\"dataframe\">\n",
       "  <thead>\n",
       "    <tr style=\"text-align: right;\">\n",
       "      <th></th>\n",
       "      <th>applicant_id</th>\n",
       "      <th>Primary_applicant_age_in_years</th>\n",
       "      <th>Gender</th>\n",
       "      <th>Marital_status</th>\n",
       "      <th>Number_of_dependents</th>\n",
       "      <th>Housing</th>\n",
       "      <th>Years_at_current_residence</th>\n",
       "      <th>Employment_status</th>\n",
       "      <th>employed_at_least_years</th>\n",
       "      <th>employed_at_most_years</th>\n",
       "      <th>Foreign_worker</th>\n",
       "      <th>Savings_account_balance</th>\n",
       "      <th>bank_balance_upper_limit</th>\n",
       "    </tr>\n",
       "  </thead>\n",
       "  <tbody>\n",
       "    <tr>\n",
       "      <th>0</th>\n",
       "      <td>1469590</td>\n",
       "      <td>67</td>\n",
       "      <td>male</td>\n",
       "      <td>single</td>\n",
       "      <td>1</td>\n",
       "      <td>own</td>\n",
       "      <td>4</td>\n",
       "      <td>skilled employee / official</td>\n",
       "      <td>7.0</td>\n",
       "      <td>NaN</td>\n",
       "      <td>1</td>\n",
       "      <td>NaN</td>\n",
       "      <td>0.0</td>\n",
       "    </tr>\n",
       "    <tr>\n",
       "      <th>1</th>\n",
       "      <td>1203873</td>\n",
       "      <td>22</td>\n",
       "      <td>female</td>\n",
       "      <td>divorced/separated/married</td>\n",
       "      <td>1</td>\n",
       "      <td>own</td>\n",
       "      <td>2</td>\n",
       "      <td>skilled employee / official</td>\n",
       "      <td>1.0</td>\n",
       "      <td>4.0</td>\n",
       "      <td>1</td>\n",
       "      <td>Low</td>\n",
       "      <td>2.0</td>\n",
       "    </tr>\n",
       "    <tr>\n",
       "      <th>2</th>\n",
       "      <td>1432761</td>\n",
       "      <td>49</td>\n",
       "      <td>male</td>\n",
       "      <td>single</td>\n",
       "      <td>2</td>\n",
       "      <td>own</td>\n",
       "      <td>3</td>\n",
       "      <td>unskilled - resident</td>\n",
       "      <td>4.0</td>\n",
       "      <td>7.0</td>\n",
       "      <td>1</td>\n",
       "      <td>Low</td>\n",
       "      <td>NaN</td>\n",
       "    </tr>\n",
       "    <tr>\n",
       "      <th>3</th>\n",
       "      <td>1207582</td>\n",
       "      <td>45</td>\n",
       "      <td>male</td>\n",
       "      <td>single</td>\n",
       "      <td>2</td>\n",
       "      <td>for free</td>\n",
       "      <td>4</td>\n",
       "      <td>skilled employee / official</td>\n",
       "      <td>4.0</td>\n",
       "      <td>7.0</td>\n",
       "      <td>1</td>\n",
       "      <td>Low</td>\n",
       "      <td>0.0</td>\n",
       "    </tr>\n",
       "    <tr>\n",
       "      <th>4</th>\n",
       "      <td>1674436</td>\n",
       "      <td>53</td>\n",
       "      <td>male</td>\n",
       "      <td>single</td>\n",
       "      <td>2</td>\n",
       "      <td>for free</td>\n",
       "      <td>4</td>\n",
       "      <td>skilled employee / official</td>\n",
       "      <td>1.0</td>\n",
       "      <td>4.0</td>\n",
       "      <td>1</td>\n",
       "      <td>Low</td>\n",
       "      <td>0.0</td>\n",
       "    </tr>\n",
       "    <tr>\n",
       "      <th>...</th>\n",
       "      <td>...</td>\n",
       "      <td>...</td>\n",
       "      <td>...</td>\n",
       "      <td>...</td>\n",
       "      <td>...</td>\n",
       "      <td>...</td>\n",
       "      <td>...</td>\n",
       "      <td>...</td>\n",
       "      <td>...</td>\n",
       "      <td>...</td>\n",
       "      <td>...</td>\n",
       "      <td>...</td>\n",
       "      <td>...</td>\n",
       "    </tr>\n",
       "    <tr>\n",
       "      <th>995</th>\n",
       "      <td>1880194</td>\n",
       "      <td>31</td>\n",
       "      <td>female</td>\n",
       "      <td>divorced/separated/married</td>\n",
       "      <td>1</td>\n",
       "      <td>own</td>\n",
       "      <td>4</td>\n",
       "      <td>unskilled - resident</td>\n",
       "      <td>4.0</td>\n",
       "      <td>7.0</td>\n",
       "      <td>1</td>\n",
       "      <td>Low</td>\n",
       "      <td>NaN</td>\n",
       "    </tr>\n",
       "    <tr>\n",
       "      <th>996</th>\n",
       "      <td>1114064</td>\n",
       "      <td>40</td>\n",
       "      <td>male</td>\n",
       "      <td>divorced/separated</td>\n",
       "      <td>1</td>\n",
       "      <td>own</td>\n",
       "      <td>4</td>\n",
       "      <td>management / self-employed / highly qualified ...</td>\n",
       "      <td>1.0</td>\n",
       "      <td>4.0</td>\n",
       "      <td>1</td>\n",
       "      <td>Low</td>\n",
       "      <td>0.0</td>\n",
       "    </tr>\n",
       "    <tr>\n",
       "      <th>997</th>\n",
       "      <td>1758046</td>\n",
       "      <td>38</td>\n",
       "      <td>male</td>\n",
       "      <td>single</td>\n",
       "      <td>1</td>\n",
       "      <td>own</td>\n",
       "      <td>4</td>\n",
       "      <td>skilled employee / official</td>\n",
       "      <td>7.0</td>\n",
       "      <td>NaN</td>\n",
       "      <td>1</td>\n",
       "      <td>Low</td>\n",
       "      <td>NaN</td>\n",
       "    </tr>\n",
       "    <tr>\n",
       "      <th>998</th>\n",
       "      <td>1824545</td>\n",
       "      <td>23</td>\n",
       "      <td>male</td>\n",
       "      <td>single</td>\n",
       "      <td>1</td>\n",
       "      <td>for free</td>\n",
       "      <td>4</td>\n",
       "      <td>skilled employee / official</td>\n",
       "      <td>1.0</td>\n",
       "      <td>4.0</td>\n",
       "      <td>1</td>\n",
       "      <td>Low</td>\n",
       "      <td>0.0</td>\n",
       "    </tr>\n",
       "    <tr>\n",
       "      <th>999</th>\n",
       "      <td>1660770</td>\n",
       "      <td>27</td>\n",
       "      <td>male</td>\n",
       "      <td>single</td>\n",
       "      <td>1</td>\n",
       "      <td>own</td>\n",
       "      <td>4</td>\n",
       "      <td>skilled employee / official</td>\n",
       "      <td>NaN</td>\n",
       "      <td>0.0</td>\n",
       "      <td>1</td>\n",
       "      <td>Medium</td>\n",
       "      <td>2.0</td>\n",
       "    </tr>\n",
       "  </tbody>\n",
       "</table>\n",
       "<p>1000 rows × 13 columns</p>\n",
       "</div>"
      ],
      "text/plain": [
       "     applicant_id  Primary_applicant_age_in_years  Gender  \\\n",
       "0         1469590                              67    male   \n",
       "1         1203873                              22  female   \n",
       "2         1432761                              49    male   \n",
       "3         1207582                              45    male   \n",
       "4         1674436                              53    male   \n",
       "..            ...                             ...     ...   \n",
       "995       1880194                              31  female   \n",
       "996       1114064                              40    male   \n",
       "997       1758046                              38    male   \n",
       "998       1824545                              23    male   \n",
       "999       1660770                              27    male   \n",
       "\n",
       "                 Marital_status  Number_of_dependents   Housing  \\\n",
       "0                        single                     1       own   \n",
       "1    divorced/separated/married                     1       own   \n",
       "2                        single                     2       own   \n",
       "3                        single                     2  for free   \n",
       "4                        single                     2  for free   \n",
       "..                          ...                   ...       ...   \n",
       "995  divorced/separated/married                     1       own   \n",
       "996          divorced/separated                     1       own   \n",
       "997                      single                     1       own   \n",
       "998                      single                     1  for free   \n",
       "999                      single                     1       own   \n",
       "\n",
       "     Years_at_current_residence  \\\n",
       "0                             4   \n",
       "1                             2   \n",
       "2                             3   \n",
       "3                             4   \n",
       "4                             4   \n",
       "..                          ...   \n",
       "995                           4   \n",
       "996                           4   \n",
       "997                           4   \n",
       "998                           4   \n",
       "999                           4   \n",
       "\n",
       "                                     Employment_status  \\\n",
       "0                          skilled employee / official   \n",
       "1                          skilled employee / official   \n",
       "2                                 unskilled - resident   \n",
       "3                          skilled employee / official   \n",
       "4                          skilled employee / official   \n",
       "..                                                 ...   \n",
       "995                               unskilled - resident   \n",
       "996  management / self-employed / highly qualified ...   \n",
       "997                        skilled employee / official   \n",
       "998                        skilled employee / official   \n",
       "999                        skilled employee / official   \n",
       "\n",
       "     employed_at_least_years  employed_at_most_years  Foreign_worker  \\\n",
       "0                        7.0                     NaN               1   \n",
       "1                        1.0                     4.0               1   \n",
       "2                        4.0                     7.0               1   \n",
       "3                        4.0                     7.0               1   \n",
       "4                        1.0                     4.0               1   \n",
       "..                       ...                     ...             ...   \n",
       "995                      4.0                     7.0               1   \n",
       "996                      1.0                     4.0               1   \n",
       "997                      7.0                     NaN               1   \n",
       "998                      1.0                     4.0               1   \n",
       "999                      NaN                     0.0               1   \n",
       "\n",
       "    Savings_account_balance  bank_balance_upper_limit  \n",
       "0                       NaN                       0.0  \n",
       "1                       Low                       2.0  \n",
       "2                       Low                       NaN  \n",
       "3                       Low                       0.0  \n",
       "4                       Low                       0.0  \n",
       "..                      ...                       ...  \n",
       "995                     Low                       NaN  \n",
       "996                     Low                       0.0  \n",
       "997                     Low                       NaN  \n",
       "998                     Low                       0.0  \n",
       "999                  Medium                       2.0  \n",
       "\n",
       "[1000 rows x 13 columns]"
      ]
     },
     "execution_count": 263,
     "metadata": {},
     "output_type": "execute_result"
    }
   ],
   "source": [
    "data_e1"
   ]
  },
  {
   "cell_type": "markdown",
   "id": "3e2d7d7f",
   "metadata": {},
   "source": [
    "### Data imputation"
   ]
  },
  {
   "cell_type": "markdown",
   "id": "cd507882",
   "metadata": {},
   "source": [
    "Imputing Nan values using Median imputation"
   ]
  },
  {
   "cell_type": "code",
   "execution_count": 264,
   "id": "bcda8324",
   "metadata": {},
   "outputs": [],
   "source": [
    "# filling Nan values by groupby median\n",
    "data_e1[\"employed_at_least_years\"].fillna(data_e1.groupby('Employment_status')['employed_at_least_years'].transform('median'),inplace=True)\n",
    "data_e1[\"bank_balance_upper_limit\"].fillna(data_e1.groupby('Employment_status')['bank_balance_upper_limit'].transform('median'),inplace=True)\n",
    "\n",
    "# Employement at most years have dependency on Employment status as well as on  employed_at_least_years\n",
    "data_e1[\"employed_at_most_years\"].fillna(data_e1.groupby(['Employment_status','employed_at_least_years'])['employed_at_most_years'].transform('median'),inplace=True)\n"
   ]
  },
  {
   "cell_type": "code",
   "execution_count": 265,
   "id": "eecae4fc",
   "metadata": {},
   "outputs": [],
   "source": [
    "# Ordinal encoding of Savings_account_balance\n",
    "# Median imputation of Nan values dpending upon employment status\n",
    "data_e1['Savings_account_balance'] = data_e1['Savings_account_balance'].replace(['Low','Medium','High','Very high'],[1,2,3,4])\n",
    "\n",
    "data_e1[\"Savings_account_balance\"].fillna(data_e1.groupby('Employment_status')['Savings_account_balance'].transform('median'),inplace=True)\n"
   ]
  },
  {
   "cell_type": "code",
   "execution_count": 266,
   "id": "d43b4916",
   "metadata": {},
   "outputs": [],
   "source": [
    "## filling Nan values using forward fill\n",
    "loandata['Property'].fillna(method = 'ffill',limit =1,inplace=True)\n",
    "loandata['Purpose'].fillna(method ='ffill',limit =1,inplace=True)"
   ]
  },
  {
   "cell_type": "code",
   "execution_count": 267,
   "id": "4c283c47",
   "metadata": {},
   "outputs": [
    {
     "name": "stdout",
     "output_type": "stream",
     "text": [
      "<class 'pandas.core.frame.DataFrame'>\n",
      "RangeIndex: 1000 entries, 0 to 999\n",
      "Data columns (total 13 columns):\n",
      " #   Column                          Non-Null Count  Dtype  \n",
      "---  ------                          --------------  -----  \n",
      " 0   applicant_id                    1000 non-null   int64  \n",
      " 1   Primary_applicant_age_in_years  1000 non-null   int64  \n",
      " 2   Gender                          1000 non-null   object \n",
      " 3   Marital_status                  1000 non-null   object \n",
      " 4   Number_of_dependents            1000 non-null   int64  \n",
      " 5   Housing                         1000 non-null   object \n",
      " 6   Years_at_current_residence      1000 non-null   int64  \n",
      " 7   Employment_status               1000 non-null   object \n",
      " 8   employed_at_least_years         1000 non-null   float64\n",
      " 9   employed_at_most_years          747 non-null    float64\n",
      " 10  Foreign_worker                  1000 non-null   int64  \n",
      " 11  Savings_account_balance         1000 non-null   float64\n",
      " 12  bank_balance_upper_limit        1000 non-null   float64\n",
      "dtypes: float64(4), int64(5), object(4)\n",
      "memory usage: 101.7+ KB\n"
     ]
    }
   ],
   "source": [
    "# checking for nan values if remaining any\n",
    "data_e1.info()"
   ]
  },
  {
   "cell_type": "code",
   "execution_count": 268,
   "id": "a8f72b44",
   "metadata": {},
   "outputs": [
    {
     "name": "stdout",
     "output_type": "stream",
     "text": [
      "7.0\n",
      "7.0\n"
     ]
    }
   ],
   "source": [
    "# Imputing employed_at_most_years Nan values depending upon employed_at_least_years which relevant \n",
    "\n",
    "print(data_e1['employed_at_least_years'][data_e1['employed_at_most_years'].isnull()==True].max())\n",
    "print(data_e1['employed_at_least_years'][data_e1['employed_at_most_years'].isnull()==True].min())\n",
    "\n",
    "#data_e1['employed_at_most_years'][data_e1['employed_at_most_years'].isnull()==True]=7"
   ]
  },
  {
   "cell_type": "code",
   "execution_count": 269,
   "id": "bea6b645",
   "metadata": {
    "scrolled": true
   },
   "outputs": [],
   "source": [
    "data_e1['employed_at_most_years'].fillna(7,inplace=True)"
   ]
  },
  {
   "cell_type": "markdown",
   "id": "eb94bd18",
   "metadata": {},
   "source": [
    "#### Data after imputation"
   ]
  },
  {
   "cell_type": "code",
   "execution_count": 270,
   "id": "8578f1a5",
   "metadata": {},
   "outputs": [
    {
     "name": "stdout",
     "output_type": "stream",
     "text": [
      "<class 'pandas.core.frame.DataFrame'>\n",
      "RangeIndex: 1000 entries, 0 to 999\n",
      "Data columns (total 13 columns):\n",
      " #   Column                          Non-Null Count  Dtype  \n",
      "---  ------                          --------------  -----  \n",
      " 0   applicant_id                    1000 non-null   int64  \n",
      " 1   Primary_applicant_age_in_years  1000 non-null   int64  \n",
      " 2   Gender                          1000 non-null   object \n",
      " 3   Marital_status                  1000 non-null   object \n",
      " 4   Number_of_dependents            1000 non-null   int64  \n",
      " 5   Housing                         1000 non-null   object \n",
      " 6   Years_at_current_residence      1000 non-null   int64  \n",
      " 7   Employment_status               1000 non-null   object \n",
      " 8   employed_at_least_years         1000 non-null   float64\n",
      " 9   employed_at_most_years          1000 non-null   float64\n",
      " 10  Foreign_worker                  1000 non-null   int64  \n",
      " 11  Savings_account_balance         1000 non-null   float64\n",
      " 12  bank_balance_upper_limit        1000 non-null   float64\n",
      "dtypes: float64(4), int64(5), object(4)\n",
      "memory usage: 101.7+ KB\n"
     ]
    }
   ],
   "source": [
    "data_e1.info()"
   ]
  },
  {
   "cell_type": "code",
   "execution_count": 271,
   "id": "175b9dd8",
   "metadata": {},
   "outputs": [
    {
     "data": {
      "text/html": [
       "<div>\n",
       "<style scoped>\n",
       "    .dataframe tbody tr th:only-of-type {\n",
       "        vertical-align: middle;\n",
       "    }\n",
       "\n",
       "    .dataframe tbody tr th {\n",
       "        vertical-align: top;\n",
       "    }\n",
       "\n",
       "    .dataframe thead th {\n",
       "        text-align: right;\n",
       "    }\n",
       "</style>\n",
       "<table border=\"1\" class=\"dataframe\">\n",
       "  <thead>\n",
       "    <tr style=\"text-align: right;\">\n",
       "      <th></th>\n",
       "      <th>applicant_id</th>\n",
       "      <th>Primary_applicant_age_in_years</th>\n",
       "      <th>Gender</th>\n",
       "      <th>Marital_status</th>\n",
       "      <th>Number_of_dependents</th>\n",
       "      <th>Housing</th>\n",
       "      <th>Years_at_current_residence</th>\n",
       "      <th>Employment_status</th>\n",
       "      <th>employed_at_least_years</th>\n",
       "      <th>employed_at_most_years</th>\n",
       "      <th>Foreign_worker</th>\n",
       "      <th>Savings_account_balance</th>\n",
       "      <th>bank_balance_upper_limit</th>\n",
       "    </tr>\n",
       "  </thead>\n",
       "  <tbody>\n",
       "    <tr>\n",
       "      <th>0</th>\n",
       "      <td>1469590</td>\n",
       "      <td>67</td>\n",
       "      <td>male</td>\n",
       "      <td>single</td>\n",
       "      <td>1</td>\n",
       "      <td>own</td>\n",
       "      <td>4</td>\n",
       "      <td>skilled employee / official</td>\n",
       "      <td>7.0</td>\n",
       "      <td>7.0</td>\n",
       "      <td>1</td>\n",
       "      <td>1.0</td>\n",
       "      <td>0.0</td>\n",
       "    </tr>\n",
       "    <tr>\n",
       "      <th>1</th>\n",
       "      <td>1203873</td>\n",
       "      <td>22</td>\n",
       "      <td>female</td>\n",
       "      <td>divorced/separated/married</td>\n",
       "      <td>1</td>\n",
       "      <td>own</td>\n",
       "      <td>2</td>\n",
       "      <td>skilled employee / official</td>\n",
       "      <td>1.0</td>\n",
       "      <td>4.0</td>\n",
       "      <td>1</td>\n",
       "      <td>1.0</td>\n",
       "      <td>2.0</td>\n",
       "    </tr>\n",
       "    <tr>\n",
       "      <th>2</th>\n",
       "      <td>1432761</td>\n",
       "      <td>49</td>\n",
       "      <td>male</td>\n",
       "      <td>single</td>\n",
       "      <td>2</td>\n",
       "      <td>own</td>\n",
       "      <td>3</td>\n",
       "      <td>unskilled - resident</td>\n",
       "      <td>4.0</td>\n",
       "      <td>7.0</td>\n",
       "      <td>1</td>\n",
       "      <td>1.0</td>\n",
       "      <td>0.0</td>\n",
       "    </tr>\n",
       "    <tr>\n",
       "      <th>3</th>\n",
       "      <td>1207582</td>\n",
       "      <td>45</td>\n",
       "      <td>male</td>\n",
       "      <td>single</td>\n",
       "      <td>2</td>\n",
       "      <td>for free</td>\n",
       "      <td>4</td>\n",
       "      <td>skilled employee / official</td>\n",
       "      <td>4.0</td>\n",
       "      <td>7.0</td>\n",
       "      <td>1</td>\n",
       "      <td>1.0</td>\n",
       "      <td>0.0</td>\n",
       "    </tr>\n",
       "    <tr>\n",
       "      <th>4</th>\n",
       "      <td>1674436</td>\n",
       "      <td>53</td>\n",
       "      <td>male</td>\n",
       "      <td>single</td>\n",
       "      <td>2</td>\n",
       "      <td>for free</td>\n",
       "      <td>4</td>\n",
       "      <td>skilled employee / official</td>\n",
       "      <td>1.0</td>\n",
       "      <td>4.0</td>\n",
       "      <td>1</td>\n",
       "      <td>1.0</td>\n",
       "      <td>0.0</td>\n",
       "    </tr>\n",
       "  </tbody>\n",
       "</table>\n",
       "</div>"
      ],
      "text/plain": [
       "   applicant_id  Primary_applicant_age_in_years  Gender  \\\n",
       "0       1469590                              67    male   \n",
       "1       1203873                              22  female   \n",
       "2       1432761                              49    male   \n",
       "3       1207582                              45    male   \n",
       "4       1674436                              53    male   \n",
       "\n",
       "               Marital_status  Number_of_dependents   Housing  \\\n",
       "0                      single                     1       own   \n",
       "1  divorced/separated/married                     1       own   \n",
       "2                      single                     2       own   \n",
       "3                      single                     2  for free   \n",
       "4                      single                     2  for free   \n",
       "\n",
       "   Years_at_current_residence            Employment_status  \\\n",
       "0                           4  skilled employee / official   \n",
       "1                           2  skilled employee / official   \n",
       "2                           3         unskilled - resident   \n",
       "3                           4  skilled employee / official   \n",
       "4                           4  skilled employee / official   \n",
       "\n",
       "   employed_at_least_years  employed_at_most_years  Foreign_worker  \\\n",
       "0                      7.0                     7.0               1   \n",
       "1                      1.0                     4.0               1   \n",
       "2                      4.0                     7.0               1   \n",
       "3                      4.0                     7.0               1   \n",
       "4                      1.0                     4.0               1   \n",
       "\n",
       "   Savings_account_balance  bank_balance_upper_limit  \n",
       "0                      1.0                       0.0  \n",
       "1                      1.0                       2.0  \n",
       "2                      1.0                       0.0  \n",
       "3                      1.0                       0.0  \n",
       "4                      1.0                       0.0  "
      ]
     },
     "execution_count": 271,
     "metadata": {},
     "output_type": "execute_result"
    }
   ],
   "source": [
    "data_e1[0:5]"
   ]
  },
  {
   "cell_type": "code",
   "execution_count": 272,
   "id": "746545fd",
   "metadata": {
    "scrolled": true
   },
   "outputs": [
    {
     "data": {
      "text/html": [
       "<div>\n",
       "<style scoped>\n",
       "    .dataframe tbody tr th:only-of-type {\n",
       "        vertical-align: middle;\n",
       "    }\n",
       "\n",
       "    .dataframe tbody tr th {\n",
       "        vertical-align: top;\n",
       "    }\n",
       "\n",
       "    .dataframe thead th {\n",
       "        text-align: right;\n",
       "    }\n",
       "</style>\n",
       "<table border=\"1\" class=\"dataframe\">\n",
       "  <thead>\n",
       "    <tr style=\"text-align: right;\">\n",
       "      <th></th>\n",
       "      <th>applicant_id</th>\n",
       "      <th>Primary_applicant_age_in_years</th>\n",
       "      <th>Number_of_dependents</th>\n",
       "      <th>Years_at_current_residence</th>\n",
       "      <th>employed_at_least_years</th>\n",
       "      <th>employed_at_most_years</th>\n",
       "      <th>Foreign_worker</th>\n",
       "      <th>Savings_account_balance</th>\n",
       "      <th>bank_balance_upper_limit</th>\n",
       "    </tr>\n",
       "  </thead>\n",
       "  <tbody>\n",
       "    <tr>\n",
       "      <th>applicant_id</th>\n",
       "      <td>1.000000</td>\n",
       "      <td>-0.010583</td>\n",
       "      <td>0.017048</td>\n",
       "      <td>-0.028017</td>\n",
       "      <td>0.016720</td>\n",
       "      <td>0.004312</td>\n",
       "      <td>0.066389</td>\n",
       "      <td>0.019670</td>\n",
       "      <td>0.008323</td>\n",
       "    </tr>\n",
       "    <tr>\n",
       "      <th>Primary_applicant_age_in_years</th>\n",
       "      <td>-0.010583</td>\n",
       "      <td>1.000000</td>\n",
       "      <td>0.118201</td>\n",
       "      <td>0.266419</td>\n",
       "      <td>0.356529</td>\n",
       "      <td>0.205770</td>\n",
       "      <td>0.006151</td>\n",
       "      <td>0.015772</td>\n",
       "      <td>-0.029560</td>\n",
       "    </tr>\n",
       "    <tr>\n",
       "      <th>Number_of_dependents</th>\n",
       "      <td>0.017048</td>\n",
       "      <td>0.118201</td>\n",
       "      <td>1.000000</td>\n",
       "      <td>0.042643</td>\n",
       "      <td>0.088243</td>\n",
       "      <td>0.091470</td>\n",
       "      <td>-0.077071</td>\n",
       "      <td>-0.009664</td>\n",
       "      <td>-0.067391</td>\n",
       "    </tr>\n",
       "    <tr>\n",
       "      <th>Years_at_current_residence</th>\n",
       "      <td>-0.028017</td>\n",
       "      <td>0.266419</td>\n",
       "      <td>0.042643</td>\n",
       "      <td>1.000000</td>\n",
       "      <td>0.301341</td>\n",
       "      <td>0.206418</td>\n",
       "      <td>0.054097</td>\n",
       "      <td>0.024568</td>\n",
       "      <td>-0.069810</td>\n",
       "    </tr>\n",
       "    <tr>\n",
       "      <th>employed_at_least_years</th>\n",
       "      <td>0.016720</td>\n",
       "      <td>0.356529</td>\n",
       "      <td>0.088243</td>\n",
       "      <td>0.301341</td>\n",
       "      <td>1.000000</td>\n",
       "      <td>0.789677</td>\n",
       "      <td>0.058977</td>\n",
       "      <td>0.025327</td>\n",
       "      <td>-0.015105</td>\n",
       "    </tr>\n",
       "    <tr>\n",
       "      <th>employed_at_most_years</th>\n",
       "      <td>0.004312</td>\n",
       "      <td>0.205770</td>\n",
       "      <td>0.091470</td>\n",
       "      <td>0.206418</td>\n",
       "      <td>0.789677</td>\n",
       "      <td>1.000000</td>\n",
       "      <td>0.021698</td>\n",
       "      <td>0.065389</td>\n",
       "      <td>-0.104441</td>\n",
       "    </tr>\n",
       "    <tr>\n",
       "      <th>Foreign_worker</th>\n",
       "      <td>0.066389</td>\n",
       "      <td>0.006151</td>\n",
       "      <td>-0.077071</td>\n",
       "      <td>0.054097</td>\n",
       "      <td>0.058977</td>\n",
       "      <td>0.021698</td>\n",
       "      <td>1.000000</td>\n",
       "      <td>-0.007892</td>\n",
       "      <td>0.062034</td>\n",
       "    </tr>\n",
       "    <tr>\n",
       "      <th>Savings_account_balance</th>\n",
       "      <td>0.019670</td>\n",
       "      <td>0.015772</td>\n",
       "      <td>-0.009664</td>\n",
       "      <td>0.024568</td>\n",
       "      <td>0.025327</td>\n",
       "      <td>0.065389</td>\n",
       "      <td>-0.007892</td>\n",
       "      <td>1.000000</td>\n",
       "      <td>0.027697</td>\n",
       "    </tr>\n",
       "    <tr>\n",
       "      <th>bank_balance_upper_limit</th>\n",
       "      <td>0.008323</td>\n",
       "      <td>-0.029560</td>\n",
       "      <td>-0.067391</td>\n",
       "      <td>-0.069810</td>\n",
       "      <td>-0.015105</td>\n",
       "      <td>-0.104441</td>\n",
       "      <td>0.062034</td>\n",
       "      <td>0.027697</td>\n",
       "      <td>1.000000</td>\n",
       "    </tr>\n",
       "  </tbody>\n",
       "</table>\n",
       "</div>"
      ],
      "text/plain": [
       "                                applicant_id  Primary_applicant_age_in_years  \\\n",
       "applicant_id                        1.000000                       -0.010583   \n",
       "Primary_applicant_age_in_years     -0.010583                        1.000000   \n",
       "Number_of_dependents                0.017048                        0.118201   \n",
       "Years_at_current_residence         -0.028017                        0.266419   \n",
       "employed_at_least_years             0.016720                        0.356529   \n",
       "employed_at_most_years              0.004312                        0.205770   \n",
       "Foreign_worker                      0.066389                        0.006151   \n",
       "Savings_account_balance             0.019670                        0.015772   \n",
       "bank_balance_upper_limit            0.008323                       -0.029560   \n",
       "\n",
       "                                Number_of_dependents  \\\n",
       "applicant_id                                0.017048   \n",
       "Primary_applicant_age_in_years              0.118201   \n",
       "Number_of_dependents                        1.000000   \n",
       "Years_at_current_residence                  0.042643   \n",
       "employed_at_least_years                     0.088243   \n",
       "employed_at_most_years                      0.091470   \n",
       "Foreign_worker                             -0.077071   \n",
       "Savings_account_balance                    -0.009664   \n",
       "bank_balance_upper_limit                   -0.067391   \n",
       "\n",
       "                                Years_at_current_residence  \\\n",
       "applicant_id                                     -0.028017   \n",
       "Primary_applicant_age_in_years                    0.266419   \n",
       "Number_of_dependents                              0.042643   \n",
       "Years_at_current_residence                        1.000000   \n",
       "employed_at_least_years                           0.301341   \n",
       "employed_at_most_years                            0.206418   \n",
       "Foreign_worker                                    0.054097   \n",
       "Savings_account_balance                           0.024568   \n",
       "bank_balance_upper_limit                         -0.069810   \n",
       "\n",
       "                                employed_at_least_years  \\\n",
       "applicant_id                                   0.016720   \n",
       "Primary_applicant_age_in_years                 0.356529   \n",
       "Number_of_dependents                           0.088243   \n",
       "Years_at_current_residence                     0.301341   \n",
       "employed_at_least_years                        1.000000   \n",
       "employed_at_most_years                         0.789677   \n",
       "Foreign_worker                                 0.058977   \n",
       "Savings_account_balance                        0.025327   \n",
       "bank_balance_upper_limit                      -0.015105   \n",
       "\n",
       "                                employed_at_most_years  Foreign_worker  \\\n",
       "applicant_id                                  0.004312        0.066389   \n",
       "Primary_applicant_age_in_years                0.205770        0.006151   \n",
       "Number_of_dependents                          0.091470       -0.077071   \n",
       "Years_at_current_residence                    0.206418        0.054097   \n",
       "employed_at_least_years                       0.789677        0.058977   \n",
       "employed_at_most_years                        1.000000        0.021698   \n",
       "Foreign_worker                                0.021698        1.000000   \n",
       "Savings_account_balance                       0.065389       -0.007892   \n",
       "bank_balance_upper_limit                     -0.104441        0.062034   \n",
       "\n",
       "                                Savings_account_balance  \\\n",
       "applicant_id                                   0.019670   \n",
       "Primary_applicant_age_in_years                 0.015772   \n",
       "Number_of_dependents                          -0.009664   \n",
       "Years_at_current_residence                     0.024568   \n",
       "employed_at_least_years                        0.025327   \n",
       "employed_at_most_years                         0.065389   \n",
       "Foreign_worker                                -0.007892   \n",
       "Savings_account_balance                        1.000000   \n",
       "bank_balance_upper_limit                       0.027697   \n",
       "\n",
       "                                bank_balance_upper_limit  \n",
       "applicant_id                                    0.008323  \n",
       "Primary_applicant_age_in_years                 -0.029560  \n",
       "Number_of_dependents                           -0.067391  \n",
       "Years_at_current_residence                     -0.069810  \n",
       "employed_at_least_years                        -0.015105  \n",
       "employed_at_most_years                         -0.104441  \n",
       "Foreign_worker                                  0.062034  \n",
       "Savings_account_balance                         0.027697  \n",
       "bank_balance_upper_limit                        1.000000  "
      ]
     },
     "execution_count": 272,
     "metadata": {},
     "output_type": "execute_result"
    }
   ],
   "source": [
    "data_e1.corr()"
   ]
  },
  {
   "cell_type": "markdown",
   "id": "fdbc67a4",
   "metadata": {},
   "source": [
    "Here we can easily conclude with correlation heatmap that data is not correlated.\n",
    "only the features employed_at_least_years and employed_at_most_years are correlated so we can drop one of them."
   ]
  },
  {
   "cell_type": "code",
   "execution_count": 273,
   "id": "ecc28ef2",
   "metadata": {},
   "outputs": [],
   "source": [
    "data_e1= data_e1.drop('employed_at_least_years',axis=1)"
   ]
  },
  {
   "cell_type": "code",
   "execution_count": 274,
   "id": "2d599c31",
   "metadata": {
    "scrolled": false
   },
   "outputs": [
    {
     "name": "stdout",
     "output_type": "stream",
     "text": [
      "<class 'pandas.core.frame.DataFrame'>\n",
      "RangeIndex: 1000 entries, 0 to 999\n",
      "Data columns (total 13 columns):\n",
      " #   Column                                       Non-Null Count  Dtype \n",
      "---  ------                                       --------------  ----- \n",
      " 0   loan_application_id                          1000 non-null   object\n",
      " 1   applicant_id                                 1000 non-null   int64 \n",
      " 2   Months_loan_taken_for                        1000 non-null   int64 \n",
      " 3   Purpose                                      1000 non-null   object\n",
      " 4   Principal_loan_amount                        1000 non-null   int64 \n",
      " 5   EMI_rate_in_percentage_of_disposable_income  1000 non-null   int64 \n",
      " 6   Property                                     978 non-null    object\n",
      " 7   Has_coapplicant                              1000 non-null   int64 \n",
      " 8   Has_guarantor                                1000 non-null   int64 \n",
      " 9   Other_EMI_plans                              186 non-null    object\n",
      " 10  Number_of_existing_loans_at_this_bank        1000 non-null   int64 \n",
      " 11  Loan_history                                 1000 non-null   object\n",
      " 12  high_risk_applicant                          1000 non-null   int64 \n",
      "dtypes: int64(8), object(5)\n",
      "memory usage: 101.7+ KB\n"
     ]
    }
   ],
   "source": [
    "loandata.info()"
   ]
  },
  {
   "cell_type": "markdown",
   "id": "a5a3fe90",
   "metadata": {},
   "source": [
    "Here we can see correlation between Months_loan_taken_for and Principal_loan_amount so it increases collinearity"
   ]
  },
  {
   "cell_type": "code",
   "execution_count": 275,
   "id": "a3418ed4",
   "metadata": {},
   "outputs": [],
   "source": [
    "data_final = pd.merge(data_e1,loandata,on='applicant_id')"
   ]
  },
  {
   "cell_type": "code",
   "execution_count": 276,
   "id": "0445c6e5",
   "metadata": {},
   "outputs": [
    {
     "name": "stdout",
     "output_type": "stream",
     "text": [
      "<class 'pandas.core.frame.DataFrame'>\n",
      "Int64Index: 1000 entries, 0 to 999\n",
      "Data columns (total 24 columns):\n",
      " #   Column                                       Non-Null Count  Dtype  \n",
      "---  ------                                       --------------  -----  \n",
      " 0   applicant_id                                 1000 non-null   int64  \n",
      " 1   Primary_applicant_age_in_years               1000 non-null   int64  \n",
      " 2   Gender                                       1000 non-null   object \n",
      " 3   Marital_status                               1000 non-null   object \n",
      " 4   Number_of_dependents                         1000 non-null   int64  \n",
      " 5   Housing                                      1000 non-null   object \n",
      " 6   Years_at_current_residence                   1000 non-null   int64  \n",
      " 7   Employment_status                            1000 non-null   object \n",
      " 8   employed_at_most_years                       1000 non-null   float64\n",
      " 9   Foreign_worker                               1000 non-null   int64  \n",
      " 10  Savings_account_balance                      1000 non-null   float64\n",
      " 11  bank_balance_upper_limit                     1000 non-null   float64\n",
      " 12  loan_application_id                          1000 non-null   object \n",
      " 13  Months_loan_taken_for                        1000 non-null   int64  \n",
      " 14  Purpose                                      1000 non-null   object \n",
      " 15  Principal_loan_amount                        1000 non-null   int64  \n",
      " 16  EMI_rate_in_percentage_of_disposable_income  1000 non-null   int64  \n",
      " 17  Property                                     978 non-null    object \n",
      " 18  Has_coapplicant                              1000 non-null   int64  \n",
      " 19  Has_guarantor                                1000 non-null   int64  \n",
      " 20  Other_EMI_plans                              186 non-null    object \n",
      " 21  Number_of_existing_loans_at_this_bank        1000 non-null   int64  \n",
      " 22  Loan_history                                 1000 non-null   object \n",
      " 23  high_risk_applicant                          1000 non-null   int64  \n",
      "dtypes: float64(3), int64(12), object(9)\n",
      "memory usage: 195.3+ KB\n"
     ]
    }
   ],
   "source": [
    "data_final.info()"
   ]
  },
  {
   "cell_type": "code",
   "execution_count": 277,
   "id": "b2ebdee6",
   "metadata": {
    "scrolled": true
   },
   "outputs": [
    {
     "data": {
      "image/png": "[encoded data removed]",
      "text/plain": [
       "<Figure size 1080x720 with 2 Axes>"
      ]
     },
     "metadata": {
      "needs_background": "light"
     },
     "output_type": "display_data"
    }
   ],
   "source": [
    "sns.heatmap(data_final.corr(),cmap='Blues')\n",
    "plt.gcf().set_size_inches(15, 10)\n"
   ]
  },
  {
   "cell_type": "markdown",
   "id": "1179f468",
   "metadata": {},
   "source": [
    "### Imputing Categorical Features"
   ]
  },
  {
   "cell_type": "code",
   "execution_count": 278,
   "id": "29a7da96",
   "metadata": {},
   "outputs": [],
   "source": [
    "categorical_feature = data_final.select_dtypes(include='object').columns"
   ]
  },
  {
   "cell_type": "code",
   "execution_count": 279,
   "id": "a8f95e15",
   "metadata": {
    "scrolled": false
   },
   "outputs": [],
   "source": [
    "def target_encoder(data):\n",
    "    for col in data.select_dtypes(include='object').columns:\n",
    "        te=TargetEncoder()\n",
    "        data[col]=te.fit_transform(data[col],data.high_risk_applicant)\n",
    "    return data\n"
   ]
  },
  {
   "cell_type": "code",
   "execution_count": 280,
   "id": "3dcd85b4",
   "metadata": {
    "scrolled": true
   },
   "outputs": [
    {
     "name": "stderr",
     "output_type": "stream",
     "text": [
      "C:\\Users\\cnctk\\anaconda3\\lib\\site-packages\\category_encoders\\target_encoder.py:92: FutureWarning: Default parameter min_samples_leaf will change in version 2.6.See https://github.com/scikit-learn-contrib/category_encoders/issues/327\n",
      "  warnings.warn(\"Default parameter min_samples_leaf will change in version 2.6.\"\n",
      "C:\\Users\\cnctk\\anaconda3\\lib\\site-packages\\category_encoders\\target_encoder.py:97: FutureWarning: Default parameter smoothing will change in version 2.6.See https://github.com/scikit-learn-contrib/category_encoders/issues/327\n",
      "  warnings.warn(\"Default parameter smoothing will change in version 2.6.\"\n",
      "C:\\Users\\cnctk\\anaconda3\\lib\\site-packages\\category_encoders\\target_encoder.py:92: FutureWarning: Default parameter min_samples_leaf will change in version 2.6.See https://github.com/scikit-learn-contrib/category_encoders/issues/327\n",
      "  warnings.warn(\"Default parameter min_samples_leaf will change in version 2.6.\"\n",
      "C:\\Users\\cnctk\\anaconda3\\lib\\site-packages\\category_encoders\\target_encoder.py:97: FutureWarning: Default parameter smoothing will change in version 2.6.See https://github.com/scikit-learn-contrib/category_encoders/issues/327\n",
      "  warnings.warn(\"Default parameter smoothing will change in version 2.6.\"\n",
      "C:\\Users\\cnctk\\anaconda3\\lib\\site-packages\\category_encoders\\target_encoder.py:92: FutureWarning: Default parameter min_samples_leaf will change in version 2.6.See https://github.com/scikit-learn-contrib/category_encoders/issues/327\n",
      "  warnings.warn(\"Default parameter min_samples_leaf will change in version 2.6.\"\n",
      "C:\\Users\\cnctk\\anaconda3\\lib\\site-packages\\category_encoders\\target_encoder.py:97: FutureWarning: Default parameter smoothing will change in version 2.6.See https://github.com/scikit-learn-contrib/category_encoders/issues/327\n",
      "  warnings.warn(\"Default parameter smoothing will change in version 2.6.\"\n",
      "C:\\Users\\cnctk\\anaconda3\\lib\\site-packages\\category_encoders\\target_encoder.py:92: FutureWarning: Default parameter min_samples_leaf will change in version 2.6.See https://github.com/scikit-learn-contrib/category_encoders/issues/327\n",
      "  warnings.warn(\"Default parameter min_samples_leaf will change in version 2.6.\"\n",
      "C:\\Users\\cnctk\\anaconda3\\lib\\site-packages\\category_encoders\\target_encoder.py:97: FutureWarning: Default parameter smoothing will change in version 2.6.See https://github.com/scikit-learn-contrib/category_encoders/issues/327\n",
      "  warnings.warn(\"Default parameter smoothing will change in version 2.6.\"\n",
      "C:\\Users\\cnctk\\anaconda3\\lib\\site-packages\\category_encoders\\target_encoder.py:92: FutureWarning: Default parameter min_samples_leaf will change in version 2.6.See https://github.com/scikit-learn-contrib/category_encoders/issues/327\n",
      "  warnings.warn(\"Default parameter min_samples_leaf will change in version 2.6.\"\n",
      "C:\\Users\\cnctk\\anaconda3\\lib\\site-packages\\category_encoders\\target_encoder.py:97: FutureWarning: Default parameter smoothing will change in version 2.6.See https://github.com/scikit-learn-contrib/category_encoders/issues/327\n",
      "  warnings.warn(\"Default parameter smoothing will change in version 2.6.\"\n",
      "C:\\Users\\cnctk\\anaconda3\\lib\\site-packages\\category_encoders\\target_encoder.py:92: FutureWarning: Default parameter min_samples_leaf will change in version 2.6.See https://github.com/scikit-learn-contrib/category_encoders/issues/327\n",
      "  warnings.warn(\"Default parameter min_samples_leaf will change in version 2.6.\"\n",
      "C:\\Users\\cnctk\\anaconda3\\lib\\site-packages\\category_encoders\\target_encoder.py:97: FutureWarning: Default parameter smoothing will change in version 2.6.See https://github.com/scikit-learn-contrib/category_encoders/issues/327\n",
      "  warnings.warn(\"Default parameter smoothing will change in version 2.6.\"\n",
      "C:\\Users\\cnctk\\anaconda3\\lib\\site-packages\\category_encoders\\target_encoder.py:92: FutureWarning: Default parameter min_samples_leaf will change in version 2.6.See https://github.com/scikit-learn-contrib/category_encoders/issues/327\n",
      "  warnings.warn(\"Default parameter min_samples_leaf will change in version 2.6.\"\n",
      "C:\\Users\\cnctk\\anaconda3\\lib\\site-packages\\category_encoders\\target_encoder.py:97: FutureWarning: Default parameter smoothing will change in version 2.6.See https://github.com/scikit-learn-contrib/category_encoders/issues/327\n",
      "  warnings.warn(\"Default parameter smoothing will change in version 2.6.\"\n",
      "C:\\Users\\cnctk\\anaconda3\\lib\\site-packages\\category_encoders\\target_encoder.py:92: FutureWarning: Default parameter min_samples_leaf will change in version 2.6.See https://github.com/scikit-learn-contrib/category_encoders/issues/327\n",
      "  warnings.warn(\"Default parameter min_samples_leaf will change in version 2.6.\"\n",
      "C:\\Users\\cnctk\\anaconda3\\lib\\site-packages\\category_encoders\\target_encoder.py:97: FutureWarning: Default parameter smoothing will change in version 2.6.See https://github.com/scikit-learn-contrib/category_encoders/issues/327\n",
      "  warnings.warn(\"Default parameter smoothing will change in version 2.6.\"\n",
      "C:\\Users\\cnctk\\anaconda3\\lib\\site-packages\\category_encoders\\target_encoder.py:92: FutureWarning: Default parameter min_samples_leaf will change in version 2.6.See https://github.com/scikit-learn-contrib/category_encoders/issues/327\n",
      "  warnings.warn(\"Default parameter min_samples_leaf will change in version 2.6.\"\n",
      "C:\\Users\\cnctk\\anaconda3\\lib\\site-packages\\category_encoders\\target_encoder.py:97: FutureWarning: Default parameter smoothing will change in version 2.6.See https://github.com/scikit-learn-contrib/category_encoders/issues/327\n",
      "  warnings.warn(\"Default parameter smoothing will change in version 2.6.\"\n"
     ]
    }
   ],
   "source": [
    "data_final_encoded = target_encoder(data_final)"
   ]
  },
  {
   "cell_type": "markdown",
   "id": "4f65c944",
   "metadata": {},
   "source": [
    "### Minmax scaling"
   ]
  },
  {
   "cell_type": "code",
   "execution_count": 281,
   "id": "17998bc6",
   "metadata": {},
   "outputs": [],
   "source": [
    "def scaler_fnc(data):\n",
    "        for col in data.select_dtypes(exclude='object').columns:\n",
    "            minscaler = MinMaxScaler()\n",
    "            data[col]= minscaler.fit_transform(data[[col]])\n",
    "        return data"
   ]
  },
  {
   "cell_type": "code",
   "execution_count": 282,
   "id": "1f586bbc",
   "metadata": {},
   "outputs": [],
   "source": [
    "data_encoded_scaled = scaler_fnc(data_final_encoded)"
   ]
  },
  {
   "cell_type": "markdown",
   "id": "387cf997",
   "metadata": {},
   "source": [
    "## train test data split"
   ]
  },
  {
   "cell_type": "code",
   "execution_count": 283,
   "id": "c14a2506",
   "metadata": {
    "scrolled": true
   },
   "outputs": [],
   "source": [
    "train,test= train_test_split( data_encoded_scaled,test_size=0.2, random_state=202)"
   ]
  },
  {
   "cell_type": "code",
   "execution_count": 284,
   "id": "68fba22b",
   "metadata": {},
   "outputs": [
    {
     "data": {
      "text/plain": [
       "0.0    550\n",
       "1.0    250\n",
       "Name: high_risk_applicant, dtype: int64"
      ]
     },
     "execution_count": 284,
     "metadata": {},
     "output_type": "execute_result"
    }
   ],
   "source": [
    "train.high_risk_applicant.value_counts()"
   ]
  },
  {
   "cell_type": "markdown",
   "id": "1118f36f",
   "metadata": {},
   "source": [
    "#### Upsampling Imbalance data"
   ]
  },
  {
   "cell_type": "code",
   "execution_count": 285,
   "id": "e2495d94",
   "metadata": {},
   "outputs": [
    {
     "data": {
      "text/plain": [
       "0.0    550\n",
       "1.0    550\n",
       "Name: high_risk_applicant, dtype: int64"
      ]
     },
     "execution_count": 285,
     "metadata": {},
     "output_type": "execute_result"
    }
   ],
   "source": [
    "### Data balacing by upsampling\n",
    "\n",
    "from sklearn.utils import resample\n",
    "\n",
    "train_majority = train[train.high_risk_applicant==0]\n",
    "train_minority = train[train.high_risk_applicant==1]\n",
    " \n",
    "# Upsample minority class\n",
    "train_minority_upsampled = resample(train_minority, \n",
    "                                 replace=True,     # sample with replacement\n",
    "                                 n_samples=550,    # to match majority class\n",
    "                                 random_state=425) # reproducible results\n",
    " \n",
    "# Combine majority class with upsampled minority class\n",
    "train_upsampled = pd.concat([train_majority, train_minority_upsampled])\n",
    "\n",
    "train_upsampled.high_risk_applicant.value_counts()"
   ]
  },
  {
   "cell_type": "code",
   "execution_count": 286,
   "id": "83f76019",
   "metadata": {},
   "outputs": [],
   "source": [
    "train_x = train_upsampled.drop('high_risk_applicant',axis=1)\n",
    "train_y = train_upsampled['high_risk_applicant']\n",
    "\n",
    "test_x= test.drop('high_risk_applicant',axis=1)\n",
    "test_y = test['high_risk_applicant']"
   ]
  },
  {
   "cell_type": "markdown",
   "id": "1946f11a",
   "metadata": {},
   "source": [
    "## XGBoost classifier"
   ]
  },
  {
   "cell_type": "code",
   "execution_count": 287,
   "id": "b0ea1adf",
   "metadata": {},
   "outputs": [
    {
     "name": "stdout",
     "output_type": "stream",
     "text": [
      "best parameter {'learning_rate': 0.015, 'max_depth': 5, 'n_estimators': 700}\n",
      "train accurcay 0.9827272727272728 \n",
      "test accuracy 0.6\n"
     ]
    },
    {
     "data": {
      "image/png": "[encoded data removed]",
      "text/plain": [
       "<Figure size 1080x288 with 4 Axes>"
      ]
     },
     "metadata": {
      "needs_background": "light"
     },
     "output_type": "display_data"
    },
    {
     "name": "stdout",
     "output_type": "stream",
     "text": [
      "precision: 0.4 \n",
      "recall: 0.4\n",
      "precision: 0.9818511796733213 \n",
      "recall: 0.9836363636363636\n"
     ]
    }
   ],
   "source": [
    "\n",
    "classifier_xgb = XGBClassifier()\n",
    "param_grid = {\"max_depth\":[2,3,4, 5],\"n_estimators\": [200,300,500, 600, 700],\"learning_rate\": [0.0001,0.01, 0.015]}\n",
    "clf_xgb = GridSearchCV(classifier_xgb, param_grid, cv=5)\n",
    "clf_xgb.fit(train_x, train_y)\n",
    "print(\"best parameter\",clf_xgb.best_params_)\n",
    "\n",
    "classifier_xgb=XGBClassifier(learning_rate = clf_xgb.best_params_[\"learning_rate\"],\n",
    "                           n_estimators  = clf_xgb.best_params_[\"n_estimators\"],\n",
    "                           max_depth     = clf_xgb.best_params_[\"max_depth\"])\n",
    "classifier_xgb.fit(train_x, train_y)\n",
    "\n",
    "y_pred_train= classifier_xgb.predict(train_x)\n",
    "y_pred_test  =classifier_xgb.predict(test_x)\n",
    "train_auc = roc_auc_score(train_y,y_pred_train)\n",
    "test_auc = roc_auc_score(test_y,y_pred_test)\n",
    "print(\"train accurcay\",train_auc,\"\\ntest accuracy\",test_auc)\n",
    "\n",
    "# confusion matrix\n",
    "train_cm = confusion_matrix(train_y, y_pred_train)\n",
    "test_cm = confusion_matrix(test_y, y_pred_test)\n",
    "# Create a DataFrame from the confusion matrix\n",
    "#cm_df = pd.DataFrame(cm, index=[\"Actual 0\", \"Actual 1\"], columns=[\"Predicted 0\", \"Predicted 1\"])\n",
    "\n",
    "fig ,ax= plt.subplots(1,2,figsize =(15,4))\n",
    "\n",
    "sns.heatmap(train_cm, fmt='d',annot=True,cmap='YlOrBr',ax=ax[0])\n",
    "ax[0].set_xlabel('Predicted labels') # labels, title and ticks\n",
    "ax[0].set_ylabel('Actual labels')\n",
    "ax[0].set_ylim(2.0, 0)\n",
    "ax[0].set_title('Train Confusion Matrix')\n",
    "ax[0].xaxis.set_ticklabels(['Negative','Positive']) \n",
    "ax[0].yaxis.set_ticklabels(['Negative','Positive'])\n",
    "\n",
    "\n",
    "sns.heatmap(test_cm, fmt = 'd',annot=True,cmap='YlOrBr',ax=ax[1])\n",
    "ax[1].set_xlabel('Predicted labels') # labels, title and ticks \n",
    "ax[1].set_ylabel('Actual labels')\n",
    "ax[1].set_ylim(2.0, 0)\n",
    "ax[1].set_title('Test Confusion Matrix')\n",
    "ax[1].xaxis.set_ticklabels(['Negative','Positive']) \n",
    "ax[1].yaxis.set_ticklabels(['Negative','Positive'])\n",
    "plt.show()\n",
    "\n",
    "precision = test_cm[1][1]/(test_cm[1][1]+test_cm[0][1])\n",
    "recall =   test_cm[1][1]/(test_cm[1][1]+test_cm[1][0])\n",
    "print(\"precision:\",precision,\"\\nrecall:\",recall)\n",
    "\n",
    "precision = train_cm[1][1]/(train_cm[1][1]+train_cm[0][1])\n",
    "recall =   train_cm[1][1]/(train_cm[1][1]+train_cm[1][0])\n",
    "print(\"precision:\",precision,\"\\nrecall:\",recall)"
   ]
  },
  {
   "cell_type": "markdown",
   "id": "d3f0cb92",
   "metadata": {},
   "source": [
    "## SVM classifier"
   ]
  },
  {
   "cell_type": "code",
   "execution_count": 288,
   "id": "6106dcd2",
   "metadata": {
    "scrolled": false
   },
   "outputs": [
    {
     "name": "stdout",
     "output_type": "stream",
     "text": [
      "best parameter {'C': 0.1, 'kernel': 'linear'}\n",
      "\n",
      "\n",
      "train accurcay 0.7263636363636364 \n",
      "test accuracy 0.6366666666666667\n"
     ]
    },
    {
     "data": {
      "image/png": "[encoded data removed]",
      "text/plain": [
       "<Figure size 1080x288 with 4 Axes>"
      ]
     },
     "metadata": {
      "needs_background": "light"
     },
     "output_type": "display_data"
    },
    {
     "name": "stdout",
     "output_type": "stream",
     "text": [
      "\n",
      "\n",
      "for train data\n",
      "precision: 0.7235188509874326 \n",
      "recall: 0.7327272727272728\n",
      "\n",
      "\n",
      "for test data\n",
      "precision: 0.39436619718309857 \n",
      "recall: 0.56\n"
     ]
    }
   ],
   "source": [
    "classifier_svc= SVC()\n",
    "param_grid = {\"C\":[0.001,0.03,0.10, 1,10,15,20,30,50,100],\"kernel\":['linear']}\n",
    "clf_svc = GridSearchCV(classifier_svc, param_grid, cv=5)\n",
    "clf_svc.fit(train_x, train_y)\n",
    "print(\"best parameter\",clf_svc.best_params_)\n",
    "classifier_svc=SVC(C = clf_svc.best_params_[\"C\"],\n",
    "                           kernel  = clf_svc.best_params_[\"kernel\"])\n",
    "classifier_svc.fit(train_x, train_y)\n",
    "y_pred_train= classifier_svc.predict(train_x)\n",
    "y_pred_test  =classifier_svc.predict(test_x)\n",
    "train_auc = roc_auc_score(train_y,y_pred_train)\n",
    "test_auc = roc_auc_score(test_y,y_pred_test)\n",
    "print(\"\\n\\ntrain accurcay\",train_auc,\"\\ntest accuracy\",test_auc)\n",
    "\n",
    "# confusion matrix\n",
    "train_cm = confusion_matrix(train_y, y_pred_train)\n",
    "test_cm = confusion_matrix(test_y, y_pred_test)\n",
    "\n",
    "fig ,ax= plt.subplots(1,2,figsize =(15,4))\n",
    "sns.heatmap(train_cm, fmt='d',annot=True,cmap='YlOrBr',ax=ax[0])\n",
    "ax[0].set_xlabel('Predicted labels') # labels, title and ticks\n",
    "ax[0].set_ylabel('Actual labels')\n",
    "ax[0].set_ylim(2.0, 0)\n",
    "ax[0].set_title('Train Confusion Matrix')\n",
    "ax[0].xaxis.set_ticklabels(['Negative','Positive']) \n",
    "ax[0].yaxis.set_ticklabels(['Negative','Positive'])\n",
    "\n",
    "sns.heatmap(test_cm, fmt = 'd',annot=True,cmap='YlOrBr',ax=ax[1])\n",
    "ax[1].set_xlabel('Predicted labels') # labels, title and ticks \n",
    "ax[1].set_ylabel('Actual labels')\n",
    "ax[1].set_ylim(2.0, 0)\n",
    "ax[1].set_title('Test Confusion Matrix')\n",
    "ax[1].xaxis.set_ticklabels(['Negative','Positive']) \n",
    "ax[1].yaxis.set_ticklabels(['Negative','Positive'])\n",
    "plt.show()\n",
    "\n",
    "print(\"\\n\\nfor train data\")\n",
    "precision = train_cm[1][1]/(train_cm[1][1]+train_cm[0][1])\n",
    "recall =   train_cm[1][1]/(train_cm[1][1]+train_cm[1][0])\n",
    "print(\"precision:\",precision,\"\\nrecall:\",recall)\n",
    "\n",
    "\n",
    "print(\"\\n\\nfor test data\")\n",
    "precision = test_cm[1][1]/(test_cm[1][1]+test_cm[0][1])\n",
    "recall =   test_cm[1][1]/(test_cm[1][1]+test_cm[1][0])\n",
    "print(\"precision:\",precision,\"\\nrecall:\",recall)"
   ]
  },
  {
   "cell_type": "markdown",
   "id": "5de735fc",
   "metadata": {},
   "source": [
    "## Adaboost model"
   ]
  },
  {
   "cell_type": "code",
   "execution_count": 289,
   "id": "c816053a",
   "metadata": {},
   "outputs": [
    {
     "name": "stdout",
     "output_type": "stream",
     "text": [
      "best parameter {'learning_rate': 0.01, 'n_estimators': 600}\n",
      "\n",
      "\n",
      "\n",
      "train accurcay 0.9827272727272728 \n",
      "test accuracy 0.6\n"
     ]
    },
    {
     "data": {
      "image/png": "[encoded data removed]",
      "text/plain": [
       "<Figure size 1080x288 with 4 Axes>"
      ]
     },
     "metadata": {
      "needs_background": "light"
     },
     "output_type": "display_data"
    },
    {
     "name": "stdout",
     "output_type": "stream",
     "text": [
      "\n",
      "\n",
      "for train data\n",
      "precision: 0.9818511796733213 \n",
      "recall: 0.9836363636363636\n",
      "\n",
      "\n",
      "for test data\n",
      "precision: 0.4 \n",
      "recall: 0.4\n"
     ]
    }
   ],
   "source": [
    "classifier_adbost = AdaBoostClassifier()\n",
    "param_grid = {\"n_estimators\": [200,300,500, 600, 700],\"learning_rate\": [0.0001,0.01, 0.015]}\n",
    "clf_adbost = GridSearchCV(classifier_adbost, param_grid, cv=5)\n",
    "clf_adbost.fit(train_x, train_y)\n",
    "\n",
    "print(\"best parameter\",clf_adbost.best_params_)\n",
    "\n",
    "classifier_adbost=AdaBoostClassifier(learning_rate = clf_adbost.best_params_[\"learning_rate\"],\n",
    "                           n_estimators  = clf_adbost.best_params_[\"n_estimators\"]\n",
    "                           )\n",
    "classifier_adbost.fit(train_x, train_y)\n",
    "\n",
    "y_pred_train= classifier_xgb.predict(train_x)\n",
    "y_pred_test  =classifier_xgb.predict(test_x)\n",
    "train_auc = roc_auc_score(train_y,y_pred_train)\n",
    "test_auc = roc_auc_score(test_y,y_pred_test)\n",
    "print(\"\\n\\n\\ntrain accurcay\",train_auc,\"\\ntest accuracy\",test_auc)\n",
    "\n",
    "# confusion matrix\n",
    "train_cm = confusion_matrix(train_y, y_pred_train)\n",
    "test_cm = confusion_matrix(test_y, y_pred_test)\n",
    "# Create a DataFrame from the confusion matrix\n",
    "#cm_df = pd.DataFrame(cm, index=[\"Actual 0\", \"Actual 1\"], columns=[\"Predicted 0\", \"Predicted 1\"])\n",
    "\n",
    "fig ,ax= plt.subplots(1,2,figsize =(15,4))\n",
    "\n",
    "sns.heatmap(train_cm, fmt='d',annot=True,cmap='YlOrBr',ax=ax[0])\n",
    "ax[0].set_xlabel('Predicted labels') # labels, title and ticks\n",
    "ax[0].set_ylabel('Actual labels')\n",
    "ax[0].set_ylim(2.0, 0)\n",
    "ax[0].set_title('Train Confusion Matrix')\n",
    "ax[0].xaxis.set_ticklabels(['Negative','Positive']) \n",
    "ax[0].yaxis.set_ticklabels(['Negative','Positive'])\n",
    "\n",
    "\n",
    "sns.heatmap(test_cm, fmt = 'd',annot=True,cmap='YlOrBr',ax=ax[1])\n",
    "ax[1].set_xlabel('Predicted labels') # labels, title and ticks \n",
    "ax[1].set_ylabel('Actual labels')\n",
    "ax[1].set_ylim(2.0, 0)\n",
    "ax[1].set_title('Test Confusion Matrix')\n",
    "ax[1].xaxis.set_ticklabels(['Negative','Positive']) \n",
    "ax[1].yaxis.set_ticklabels(['Negative','Positive'])\n",
    "plt.show()\n",
    "\n",
    "print(\"\\n\\nfor train data\")\n",
    "precision = train_cm[1][1]/(train_cm[1][1]+train_cm[0][1])\n",
    "recall =   train_cm[1][1]/(train_cm[1][1]+train_cm[1][0])\n",
    "print(\"precision:\",precision,\"\\nrecall:\",recall)\n",
    "\n",
    "\n",
    "print(\"\\n\\nfor test data\")\n",
    "precision = test_cm[1][1]/(test_cm[1][1]+test_cm[0][1])\n",
    "recall =   test_cm[1][1]/(test_cm[1][1]+test_cm[1][0])\n",
    "print(\"precision:\",precision,\"\\nrecall:\",recall)"
   ]
  }
 ],
 "metadata": {
  "kernelspec": {
   "display_name": "Python 3 (ipykernel)",
   "language": "python",
   "name": "python3"
  },
  "language_info": {
   "codemirror_mode": {
    "name": "ipython",
    "version": 3
   },
   "file_extension": ".py",
   "mimetype": "text/x-python",
   "name": "python",
   "nbconvert_exporter": "python",
   "pygments_lexer": "ipython3",
   "version": "3.8.8"
  }
 },
 "nbformat": 4,
 "nbformat_minor": 5
}
